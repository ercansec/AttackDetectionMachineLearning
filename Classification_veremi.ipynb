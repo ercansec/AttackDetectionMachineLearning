{
 "cells": [
  {
   "cell_type": "code",
   "execution_count": 1,
   "id": "e6c7a6aa",
   "metadata": {},
   "outputs": [],
   "source": [
    "from sklearn.metrics import precision_score, recall_score, f1_score\n",
    "from sklearn.preprocessing import StandardScaler, MinMaxScaler\n",
    "from sklearn.metrics import accuracy_score, make_scorer\n",
    "from sklearn.metrics import confusion_matrix, classification_report\n",
    "from sklearn.metrics import plot_confusion_matrix, roc_curve, roc_auc_score\n",
    "from sklearn.metrics import balanced_accuracy_score, matthews_corrcoef\n",
    "from sklearn.model_selection import GridSearchCV\n",
    "from sklearn.model_selection import train_test_split, cross_val_score, StratifiedKFold\n",
    "from collections import Counter\n",
    "from imblearn.under_sampling import NearMiss,CondensedNearestNeighbour, TomekLinks, EditedNearestNeighbours, OneSidedSelection, NeighbourhoodCleaningRule\n",
    "from imblearn.over_sampling import SMOTE\n",
    "from sklearn import svm\n",
    "from sklearn.datasets import make_classification\n",
    "from sklearn.ensemble import RandomForestClassifier\n",
    "from xgboost import XGBClassifier\n",
    "\n",
    "from matplotlib import pyplot\n",
    "from numpy import where\n",
    "import pandas as pd \n",
    "import os \n",
    "import json\n",
    "import numpy as np\n",
    "import pylab as plt\n",
    "import tensorflow as tf\n",
    "import time\n",
    "from vecstack import stacking\n",
    "import seaborn as sns\n",
    "from math import floor\n",
    "\n",
    "pd.set_option(\"display.max_columns\", None)"
   ]
  },
  {
   "cell_type": "code",
   "execution_count": 2,
   "id": "495b2311",
   "metadata": {},
   "outputs": [],
   "source": [
    "# Read the datasets for the first scenario (07:00-09:00)\n",
    "merged1 = pd.read_csv(os.path.join('./0709', 'merged1.csv')) #DoS\n",
    "merged2 = pd.read_csv(os.path.join('./0709', 'merged2.csv')) #DoS Random\n",
    "merged3 = pd.read_csv(os.path.join('./0709', 'merged3.csv')) #DoS Disruptive\n",
    "merged4 = pd.read_csv(os.path.join('./0709', 'merged4.csv')) #DoS Random Sybil\n",
    "merged5 = pd.read_csv(os.path.join('./0709', 'merged5.csv')) #DoS Disruptive Sybil"
   ]
  },
  {
   "cell_type": "markdown",
   "id": "4c126b83",
   "metadata": {},
   "source": [
    "### Define sampling and classification functions"
   ]
  },
  {
   "cell_type": "markdown",
   "id": "170167c1",
   "metadata": {},
   "source": [
    "### Results per attack"
   ]
  },
  {
   "cell_type": "code",
   "execution_count": 21,
   "id": "4cfbbb36",
   "metadata": {},
   "outputs": [],
   "source": [
    "def sampling_per_attack(sample,veremi):\n",
    "    veremi =veremi[['pos_x_send', 'pos_y_send', \n",
    "       'spd_x_send', 'spd_y_send', 'acl_x_send', 'acl_y_send', 'hed_x_send', 'hed_y_send', 'label', \n",
    "       'nb_packets_sent', 'frequency1', 'frequency2', 'time_diff', 'distance', 'difSpeed', 'estAoA']]\n",
    "    veremi.dropna(inplace=True)\n",
    "\n",
    "    a = veremi.label.unique()[1]\n",
    "    veremi['label'] = veremi['label'].replace(a,1)\n",
    "    veremi = veremi.astype(np.uint8)\n",
    "    \n",
    "    if sample==0:\n",
    "        # Data split (original dataset)\n",
    "        y = veremi['label']\n",
    "        X = veremi.drop(columns='label')\n",
    "        \n",
    "       \n",
    "    elif sample==-1:\n",
    "        # under sampling \n",
    "        u = veremi.label.value_counts().min()\n",
    "        veremi_under_sampling = pd.concat([veremi[veremi['label']==0].sample(u), \n",
    "                                          veremi[veremi['label']==1].sample(u)], axis= 0)\n",
    "        y = veremi_under_sampling['label']\n",
    "        X = veremi_under_sampling.drop(columns='label')\n",
    "        \n",
    "        \n",
    "    elif sample==1:\n",
    "        # over sampling \n",
    "        o = veremi.label.value_counts().max()\n",
    "        veremi_over_sampling = pd.concat([veremi[veremi['label']==0].sample(o, replace=True), \n",
    "                                          veremi[veremi['label']==1].sample(o, replace=True)], axis= 0)\n",
    "        y = veremi_over_sampling['label']\n",
    "        X = veremi_over_sampling.drop(columns='label')\n",
    "        \n",
    "        \n",
    "    return(X,y)\n",
    "\n",
    "\n"
   ]
  },
  {
   "cell_type": "code",
   "execution_count": 22,
   "id": "338a06b7",
   "metadata": {},
   "outputs": [],
   "source": [
    "def classification_per_attack(sample,method,veremi):\n",
    "    X,y = sampling_per_attack(sample,veremi)\n",
    "    X_train, X_test, y_train, y_test = train_test_split(X, y, test_size=0.2,random_state=0, stratify=y)\n",
    "             \n",
    "    if method=='RF':\n",
    "        # Random Forest\n",
    "        rf = RandomForestClassifier(n_estimators=50)\n",
    "\n",
    "        start = time.time()\n",
    "        rf.fit(X_train, y_train)\n",
    "        timefit = time.time() - start\n",
    "\n",
    "        start = time.time()\n",
    "        y_pred = rf.predict(X_test)\n",
    "        timepred = time.time() - start\n",
    "    \n",
    "    elif method=='Xgboost':\n",
    "        # XGBoost\n",
    "        xgb = XGBClassifier()\n",
    "\n",
    "        start = time.time()\n",
    "        xgb.fit(X_train,y_train)\n",
    "        timefit = time.time() - start\n",
    "\n",
    "        start = time.time()\n",
    "        y_pred = xgb.predict(X_test)\n",
    "        timepred = time.time() - start\n",
    "\n",
    "        \n",
    "    elif method=='Stacking':\n",
    "        estimators = [\n",
    "            ('rf', RandomForestClassifier(n_estimators=50, criterion= 'gini')), #50, 300 or 400\n",
    "            ('xgbc', XGBClassifier(eta=1, max_depth= 5, sampling_method= 'uniform')) #n_estimators=3000 or 5000\n",
    "        ]\n",
    "        \n",
    "        \n",
    "        from sklearn.ensemble import StackingClassifier\n",
    "        from sklearn.linear_model import LogisticRegression\n",
    "        \n",
    "        clf = StackingClassifier(estimators=estimators, final_estimator=LogisticRegression())\n",
    "\n",
    "        start = time.time()\n",
    "        clf.fit(X_train, y_train).score(X_test, y_test)\n",
    "        timefit = time.time() - start\n",
    "\n",
    "        start = time.time()\n",
    "        y_pred = clf.predict(X_test)\n",
    "        timepred = time.time() - start \n",
    "              \n",
    "   \n",
    "       \n",
    "    report = classification_report(y_test,y_pred,output_dict=True)\n",
    "\n",
    "    return(report['accuracy'], report['weighted avg']['precision'], report['weighted avg']['recall'], \n",
    "          report['weighted avg']['f1-score'], balanced_accuracy_score(y_test, y_pred),\n",
    "          matthews_corrcoef(y_test, y_pred, sample_weight=None), timefit, timepred)\n"
   ]
  },
  {
   "cell_type": "code",
   "execution_count": 5,
   "id": "c8d68d62",
   "metadata": {},
   "outputs": [],
   "source": [
    "results_original_per_attack = pd.DataFrame(index=['Xgboost_1','RF_1','Stacking_1',\n",
    "                                                 'Xgboost_2','RF_2','Stacking_2',\n",
    "                                                 'Xgboost_3','RF_3','Stacking_3',\n",
    "                                                 'Xgboost_4','RF_4','Stacking_4',\n",
    "                                                 'Xgboost_5','RF_5','Stacking_5'],\n",
    "                       columns=['Acc','Pre','Rec','F1s','BAS','MCC','TimeFit','TimePred'])"
   ]
  },
  {
   "cell_type": "code",
   "execution_count": null,
   "id": "4bf3af13",
   "metadata": {},
   "outputs": [],
   "source": [
    "results_original_per_attack.xs('Xgboost_1')[:] = classification_per_attack(0,'Xgboost',merged1)\n",
    "print(results_original_per_attack)\n",
    "results_original_per_attack.xs('RF_1')[:] = classification_per_attack(0,'RF',merged1)\n",
    "print(results_original_per_attack)\n",
    "results_original_per_attack.xs('Stacking_1')[:] = classification_per_attack(0,'Stacking',merged1)\n",
    "print(results_original_per_attack)\n",
    "results_original_per_attack.to_excel('results_original_per_attack_1.xlsx')"
   ]
  },
  {
   "cell_type": "code",
   "execution_count": null,
   "id": "df42339f",
   "metadata": {},
   "outputs": [],
   "source": [
    "results_original_per_attack.xs('Xgboost_2')[:] = classification_per_attack(0,'Xgboost',merged2)\n",
    "print(results_original_per_attack)\n",
    "results_original_per_attack.xs('RF_2')[:] = classification_per_attack(0,'RF',merged2)\n",
    "print(results_original_per_attack)\n",
    "results_original_per_attack.xs('Stacking_2')[:] = classification_per_attack(0,'Stacking',merged2)\n",
    "print(results_original_per_attack)\n",
    "results_original_per_attack.to_excel('results_original_per_attack_1.xlsx')"
   ]
  },
  {
   "cell_type": "code",
   "execution_count": null,
   "id": "75b41769",
   "metadata": {},
   "outputs": [],
   "source": [
    "results_original_per_attack.xs('Xgboost_3')[:] = classification_per_attack(0,'Xgboost',merged3)\n",
    "print(results_original_per_attack)\n",
    "results_original_per_attack.xs('RF_3')[:] = classification_per_attack(0,'RF',merged3)\n",
    "print(results_original_per_attack)\n",
    "results_original_per_attack.xs('Stacking_3')[:] = classification_per_attack(0,'Stacking',merged3)\n",
    "print(results_original_per_attack)\n",
    "results_original_per_attack.to_excel('results_original_per_attack_1.xlsx')"
   ]
  },
  {
   "cell_type": "code",
   "execution_count": null,
   "id": "64798bfa",
   "metadata": {},
   "outputs": [],
   "source": [
    "results_original_per_attack.xs('Xgboost_4')[:] = classification_per_attack(0,'Xgboost',merged4)\n",
    "print(results_original_per_attack)\n",
    "results_original_per_attack.xs('RF_4')[:] = classification_per_attack(0,'RF',merged4)\n",
    "print(results_original_per_attack)\n",
    "results_original_per_attack.xs('Stacking_4')[:] = classification_per_attack(0,'Stacking',merged4)\n",
    "print(results_original_per_attack)\n",
    "results_original_per_attack.to_excel('results_original_per_attack_1.xlsx')"
   ]
  },
  {
   "cell_type": "code",
   "execution_count": null,
   "id": "1609f698",
   "metadata": {},
   "outputs": [],
   "source": [
    "results_original_per_attack.xs('Xgboost_5')[:] = classification_per_attack(0,'Xgboost',merged5)\n",
    "print(results_original_per_attack)\n",
    "results_original_per_attack.xs('RF_5')[:] = classification_per_attack(0,'RF',merged5)\n",
    "print(results_original_per_attack)\n",
    "results_original_per_attack.xs('Stacking_5')[:] = classification_per_attack(0,'Stacking',merged5)\n",
    "print(results_original_per_attack)\n",
    "results_original_per_attack.to_excel('results_original_per_attack_1.xlsx')"
   ]
  },
  {
   "cell_type": "code",
   "execution_count": 5,
   "id": "997524b6",
   "metadata": {},
   "outputs": [],
   "source": [
    "results_under_per_attack = pd.DataFrame(index=['Xgboost_1','RF_1','Stacking_1',\n",
    "                                                 'Xgboost_2','RF_2','Stacking_2',\n",
    "                                                 'Xgboost_3','RF_3','Stacking_3',\n",
    "                                                 'Xgboost_4','RF_4','Stacking_4',\n",
    "                                                 'Xgboost_5','RF_5','Stacking_5'],\n",
    "                       columns=['Acc','Pre','Rec','F1s','BAS','MCC','TimeFit','TimePred'])"
   ]
  },
  {
   "cell_type": "code",
   "execution_count": null,
   "id": "806a4213",
   "metadata": {},
   "outputs": [],
   "source": [
    "results_under_per_attack.xs('Xgboost_1')[:] = classification_per_attack(-1,'Xgboost',merged1)\n",
    "print(results_under_per_attack)\n",
    "results_under_per_attack.xs('RF_1')[:] = classification_per_attack(-1,'RF',merged1)\n",
    "print(results_under_per_attack)\n",
    "results_under_per_attack.xs('Stacking_1')[:] = classification_per_attack(-1,'Stacking',merged1)\n",
    "print(results_under_per_attack)\n",
    "results_under_per_attack.to_excel('results_under_per_attack_1.xlsx')"
   ]
  },
  {
   "cell_type": "code",
   "execution_count": null,
   "id": "71fce89c",
   "metadata": {},
   "outputs": [],
   "source": [
    "results_under_per_attack.xs('Xgboost_2')[:] = classification_per_attack(-1,'Xgboost',merged2)\n",
    "print(results_under_per_attack)\n",
    "results_under_per_attack.xs('RF_2')[:] = classification_per_attack(-1,'RF',merged2)\n",
    "print(results_under_per_attack)\n",
    "results_under_per_attack.xs('Stacking_2')[:] = classification_per_attack(-1,'Stacking',merged2)\n",
    "print(results_under_per_attack)\n",
    "results_under_per_attack.to_excel('results_under_per_attack_1.xlsx')"
   ]
  },
  {
   "cell_type": "code",
   "execution_count": null,
   "id": "007bf5cc",
   "metadata": {},
   "outputs": [],
   "source": [
    "results_under_per_attack.xs('Xgboost_3')[:] = classification_per_attack(-1,'Xgboost',merged3)\n",
    "print(results_under_per_attack)\n",
    "results_under_per_attack.xs('RF_3')[:] = classification_per_attack(-1,'RF',merged3)\n",
    "print(results_under_per_attack)\n",
    "results_under_per_attack.xs('Stacking_3')[:] = classification_per_attack(-1,'Stacking',merged3)\n",
    "print(results_under_per_attack)\n",
    "results_under_per_attack.to_excel('results_under_per_attack_1.xlsx')"
   ]
  },
  {
   "cell_type": "code",
   "execution_count": null,
   "id": "c9dc08e8",
   "metadata": {},
   "outputs": [],
   "source": [
    "results_under_per_attack.xs('Xgboost_4')[:] = classification_per_attack(-1,'Xgboost',merged4)\n",
    "print(results_under_per_attack)\n",
    "results_under_per_attack.xs('RF_4')[:] = classification_per_attack(-1,'RF',merged4)\n",
    "print(results_under_per_attack)\n",
    "results_under_per_attack.xs('Stacking_4')[:] = classification_per_attack(-1,'Stacking',merged4)\n",
    "print(results_under_per_attack)\n",
    "results_under_per_attack.to_excel('results_under_per_attack_1.xlsx')"
   ]
  },
  {
   "cell_type": "code",
   "execution_count": null,
   "id": "04ae2401",
   "metadata": {},
   "outputs": [],
   "source": [
    "results_under_per_attack.xs('Xgboost_5')[:] = classification_per_attack(-1,'Xgboost',merged5)\n",
    "print(results_under_per_attack)\n",
    "results_under_per_attack.xs('RF_5')[:] = classification_per_attack(-1,'RF',merged5)\n",
    "print(results_under_per_attack)\n",
    "results_under_per_attack.xs('Stacking_5')[:] = classification_per_attack(-1,'Stacking',merged5)\n",
    "print(results_under_per_attack)\n",
    "results_under_per_attack.to_excel('results_under_per_attack_1.xlsx')"
   ]
  },
  {
   "cell_type": "code",
   "execution_count": 7,
   "id": "3f39a548",
   "metadata": {},
   "outputs": [],
   "source": [
    "results_over_per_attack = pd.DataFrame(index=['Xgboost_1','RF_1','Stacking_1',\n",
    "                                                 'Xgboost_2','RF_2','Stacking_2',\n",
    "                                                 'Xgboost_3','RF_3','Stacking_3',\n",
    "                                                 'Xgboost_4','RF_4','Stacking_4',\n",
    "                                                 'Xgboost_5','RF_5','Stacking_5'],\n",
    "                       columns=['Acc','Pre','Rec','F1s','BAS','MCC','TimeFit','TimePred'])"
   ]
  },
  {
   "cell_type": "code",
   "execution_count": null,
   "id": "69bfc2f2",
   "metadata": {},
   "outputs": [],
   "source": [
    "results_over_per_attack.xs('Xgboost_1')[:] = classification_per_attack(1,'Xgboost',merged1)\n",
    "print(results_over_per_attack)\n",
    "results_over_per_attack.xs('RF_1')[:] = classification_per_attack(1,'RF',merged1)\n",
    "print(results_over_per_attack)\n",
    "results_over_per_attack.xs('Stacking_1')[:] = classification_per_attack(1,'Stacking',merged1)\n",
    "print(results_over_per_attack)\n",
    "results_over_per_attack.to_excel('results_over_per_attack_1.xlsx')"
   ]
  },
  {
   "cell_type": "code",
   "execution_count": null,
   "id": "df04abf9",
   "metadata": {},
   "outputs": [],
   "source": [
    "results_over_per_attack.xs('Xgboost_2')[:] = classification_per_attack(1,'Xgboost',merged2)\n",
    "print(results_over_per_attack)\n",
    "results_over_per_attack.xs('RF_2')[:] = classification_per_attack(1,'RF',merged2)\n",
    "print(results_over_per_attack)\n",
    "results_over_per_attack.xs('Stacking_2')[:] = classification_per_attack(1,'Stacking',merged2)\n",
    "print(results_over_per_attack)\n",
    "results_over_per_attack.to_excel('results_over_per_attack_1.xlsx')"
   ]
  },
  {
   "cell_type": "code",
   "execution_count": null,
   "id": "34987d28",
   "metadata": {},
   "outputs": [],
   "source": [
    "results_over_per_attack.xs('Xgboost_3')[:] = classification_per_attack(1,'Xgboost',merged3)\n",
    "print(results_over_per_attack)\n",
    "results_over_per_attack.xs('RF_3')[:] = classification_per_attack(1,'RF',merged3)\n",
    "print(results_over_per_attack)\n",
    "results_over_per_attack.xs('Stacking_3')[:] = classification_per_attack(1,'Stacking',merged3)\n",
    "print(results_over_per_attack)\n",
    "results_over_per_attack.to_excel('results_over_per_attack_1.xlsx')"
   ]
  },
  {
   "cell_type": "code",
   "execution_count": null,
   "id": "5278044f",
   "metadata": {},
   "outputs": [],
   "source": [
    "results_over_per_attack.xs('Xgboost_4')[:] = classification_per_attack(1,'Xgboost',merged4)\n",
    "print(results_over_per_attack)\n",
    "results_over_per_attack.xs('RF_4')[:] = classification_per_attack(1,'RF',merged4)\n",
    "print(results_over_per_attack)\n",
    "results_over_per_attack.xs('Stacking_4')[:] = classification_per_attack(1,'Stacking',merged4)\n",
    "print(results_over_per_attack)\n",
    "results_over_per_attack.to_excel('results_over_per_attack_1.xlsx')"
   ]
  },
  {
   "cell_type": "code",
   "execution_count": null,
   "id": "371c8958",
   "metadata": {},
   "outputs": [],
   "source": [
    "results_over_per_attack.xs('Xgboost_5')[:] = classification_per_attack(1,'Xgboost',merged5)\n",
    "print(results_over_per_attack)\n",
    "results_over_per_attack.xs('RF_5')[:] = classification_per_attack(1,'RF',merged5)\n",
    "print(results_over_per_attack)\n",
    "results_over_per_attack.xs('Stacking_5')[:] = classification_per_attack(1,'Stacking',merged5)\n",
    "print(results_over_per_attack)\n",
    "results_over_per_attack.to_excel('results_over_per_attack_1.xlsx')"
   ]
  },
  {
   "cell_type": "code",
   "execution_count": null,
   "id": "18e61181",
   "metadata": {},
   "outputs": [],
   "source": [
    "# Read the results if needed\n",
    "results_original_per_attack = pd.read_excel('results_original_per_attack_1.xlsx')\n",
    "results_original_per_attack.rename(columns={'Unnamed: 0': 'method'}, inplace=True)\n",
    "results_original_per_attack.set_index('method', inplace=True)\n",
    "\n",
    "results_under_per_attack = pd.read_excel('results_under_per_attack_1.xlsx')\n",
    "results_under_per_attack.rename(columns={'Unnamed: 0': 'method'}, inplace=True)\n",
    "results_under_per_attack.set_index('method', inplace=True)\n",
    "\n",
    "results_over_per_attack = pd.read_excel('results_over_per_attack_1.xlsx')\n",
    "results_over_per_attack.rename(columns={'Unnamed: 0': 'method'}, inplace=True)\n",
    "results_over_per_attack.set_index('method', inplace=True)"
   ]
  },
  {
   "cell_type": "markdown",
   "id": "c5efc35f",
   "metadata": {},
   "source": [
    "#### Results for the main dataset (not adding new features)"
   ]
  },
  {
   "cell_type": "code",
   "execution_count": 26,
   "id": "bb9117bd",
   "metadata": {},
   "outputs": [],
   "source": [
    "def sampling_per_attack_original(sample,veremi):\n",
    "    veremi =veremi[['pos_x_send', 'pos_y_send',\n",
    "       'pos_noise_x', 'pos_noise_y', 'spd_x_send', 'spd_y_send', 'spd_noise_x',\n",
    "       'spd_noise_y', 'acl_x_send', 'acl_y_send', 'acl_noise_x', 'acl_noise_y',\n",
    "       'hed_x_send', 'hed_y_send', 'hed_noise_x', 'hed_noise_y', 'label']]\n",
    "    veremi.dropna(inplace=True)\n",
    "\n",
    "    a = veremi.label.unique()[1]\n",
    "    veremi['label'] = veremi['label'].replace(a,1)\n",
    "    veremi = veremi.astype(np.uint8)\n",
    "    \n",
    "    if sample==0:\n",
    "        # Data split (original dataset)\n",
    "        y = veremi['label']\n",
    "        X = veremi.drop(columns='label')\n",
    "      \n",
    "    \n",
    "       \n",
    "    elif sample==-1:\n",
    "        # under sampling \n",
    "        u = veremi.label.value_counts().min()\n",
    "        veremi_under_sampling = pd.concat([veremi[veremi['label']==0].sample(u), \n",
    "                                          veremi[veremi['label']==1].sample(u)], axis= 0)\n",
    "        y = veremi_under_sampling['label']\n",
    "        X = veremi_under_sampling.drop(columns='label')\n",
    "       \n",
    "        \n",
    "    elif sample==1:\n",
    "        # over sampling \n",
    "        o = veremi.label.value_counts().max()\n",
    "        veremi_over_sampling = pd.concat([veremi[veremi['label']==0].sample(o, replace=True), \n",
    "                                          veremi[veremi['label']==1].sample(o, replace=True)], axis= 0)\n",
    "        y = veremi_over_sampling['label']\n",
    "        X = veremi_over_sampling.drop(columns='label')\n",
    "   \n",
    "        \n",
    "    return(X,y)\n",
    "\n",
    "\n"
   ]
  },
  {
   "cell_type": "code",
   "execution_count": 27,
   "id": "b64e68ba",
   "metadata": {},
   "outputs": [],
   "source": [
    "def classification_per_attack_original(sample,method,veremi):\n",
    "    X,y = sampling_per_attack_original(sample,veremi)\n",
    "    X_train, X_test, y_train, y_test = train_test_split(X, y, test_size=0.2,random_state=0, stratify=y)\n",
    "    \n",
    "    if method=='RF':\n",
    "        # Random Forest\n",
    "        rf = RandomForestClassifier(n_estimators=50)\n",
    "\n",
    "        start = time.time()\n",
    "        rf.fit(X_train, y_train)\n",
    "        timefit = time.time() - start\n",
    "\n",
    "        start = time.time()\n",
    "        y_pred = rf.predict(X_test)\n",
    "        timepred = time.time() - start\n",
    "    \n",
    "    elif method=='Xgboost':\n",
    "        # XGBoost\n",
    "        xgb = XGBClassifier()\n",
    "\n",
    "        start = time.time()\n",
    "        xgb.fit(X_train,y_train)\n",
    "        timefit = time.time() - start\n",
    "\n",
    "        start = time.time()\n",
    "        y_pred = xgb.predict(X_test)\n",
    "        timepred = time.time() - start\n",
    "\n",
    "        \n",
    "    elif method=='Stacking':\n",
    "        estimators = [\n",
    "            ('rf', RandomForestClassifier(n_estimators=50, criterion= 'gini')), #50, 300 or 400\n",
    "            ('xgbc', XGBClassifier(eta=1, max_depth= 5, sampling_method= 'uniform')) #n_estimators=3000 or 5000\n",
    "        ]\n",
    "        \n",
    "        \n",
    "        from sklearn.ensemble import StackingClassifier\n",
    "        from sklearn.linear_model import LogisticRegression\n",
    "        \n",
    "        clf = StackingClassifier(estimators=estimators, final_estimator=LogisticRegression())\n",
    "\n",
    "        start = time.time()\n",
    "        clf.fit(X_train, y_train).score(X_test, y_test)\n",
    "        timefit = time.time() - start\n",
    "\n",
    "        start = time.time()\n",
    "        y_pred = clf.predict(X_test)\n",
    "        timepred = time.time() - start \n",
    "        \n",
    " \n",
    "        \n",
    "    report = classification_report(y_test,y_pred,output_dict=True)\n",
    "\n",
    "    return(report['accuracy'], report['weighted avg']['precision'], report['weighted avg']['recall'], \n",
    "          report['weighted avg']['f1-score'], balanced_accuracy_score(y_test, y_pred),\n",
    "          matthews_corrcoef(y_test, y_pred, sample_weight=None), timefit, timepred)\n"
   ]
  },
  {
   "cell_type": "code",
   "execution_count": 28,
   "id": "48eafc8c",
   "metadata": {},
   "outputs": [],
   "source": [
    "results_original_per_attack_original = pd.DataFrame(index=['Xgboost_1','RF_1','Stacking_1',\n",
    "                                                 'Xgboost_2','RF_2','Stacking_2',\n",
    "                                                 'Xgboost_3','RF_3','Stacking_3',\n",
    "                                                 'Xgboost_4','RF_4','Stacking_4',\n",
    "                                                 'Xgboost_5','RF_5','Stacking_5'],\n",
    "                       columns=['Acc','Pre','Rec','F1s','BAS','MCC','TimeFit','TimePred'])"
   ]
  },
  {
   "cell_type": "code",
   "execution_count": null,
   "id": "cae3cff1",
   "metadata": {},
   "outputs": [],
   "source": [
    "results_original_per_attack_original.xs('Xgboost_1')[:] = classification_per_attack_original(0,'Xgboost',merged1)\n",
    "print(results_original_per_attack_original)\n",
    "results_original_per_attack_original.xs('RF_1')[:] = classification_per_attack_original(0,'RF',merged1)\n",
    "print(results_original_per_attack_original)\n",
    "results_original_per_attack_original.xs('Stacking_1')[:] = classification_per_attack_original(0,'Stacking',merged1)\n",
    "print(results_original_per_attack_original)\n",
    "results_original_per_attack_original.to_excel('results_original_per_attack_original_1.xlsx')"
   ]
  },
  {
   "cell_type": "code",
   "execution_count": null,
   "id": "f70e9b19",
   "metadata": {},
   "outputs": [],
   "source": [
    "results_original_per_attack_original.xs('Xgboost_2')[:] = classification_per_attack_original(0,'Xgboost',merged2)\n",
    "print(results_original_per_attack_original)\n",
    "results_original_per_attack_original.xs('RF_2')[:] = classification_per_attack_original(0,'RF',merged2)\n",
    "print(results_original_per_attack_original)\n",
    "results_original_per_attack_original.xs('Stacking_2')[:] = classification_per_attack_original(0,'Stacking',merged2)\n",
    "print(results_original_per_attack_original)\n",
    "results_original_per_attack_original.to_excel('results_original_per_attack_original_1.xlsx')"
   ]
  },
  {
   "cell_type": "code",
   "execution_count": null,
   "id": "fd2731b1",
   "metadata": {},
   "outputs": [],
   "source": [
    "results_original_per_attack_original.xs('Xgboost_3')[:] = classification_per_attack_original(0,'Xgboost',merged3)\n",
    "print(results_original_per_attack_original)\n",
    "results_original_per_attack_original.xs('RF_3')[:] = classification_per_attack_original(0,'RF',merged3)\n",
    "print(results_original_per_attack_original)\n",
    "results_original_per_attack_original.xs('Stacking_3')[:] = classification_per_attack_original(0,'Stacking',merged3)\n",
    "print(results_original_per_attack_original)\n",
    "results_original_per_attack_original.to_excel('results_original_per_attack_original_1.xlsx')"
   ]
  },
  {
   "cell_type": "code",
   "execution_count": null,
   "id": "76886361",
   "metadata": {},
   "outputs": [],
   "source": [
    "results_original_per_attack_original.xs('Xgboost_4')[:] = classification_per_attack_original(0,'Xgboost',merged4)\n",
    "print(results_original_per_attack_original)\n",
    "results_original_per_attack_original.xs('RF_4')[:] = classification_per_attack_original(0,'RF',merged4)\n",
    "print(results_original_per_attack_original)\n",
    "results_original_per_attack_original.xs('Stacking_4')[:] = classification_per_attack_original(0,'Stacking',merged4)\n",
    "print(results_original_per_attack_original)\n",
    "results_original_per_attack_original.to_excel('results_original_per_attack_original_1.xlsx')"
   ]
  },
  {
   "cell_type": "code",
   "execution_count": null,
   "id": "17c634ce",
   "metadata": {},
   "outputs": [],
   "source": [
    "results_original_per_attack_original.xs('Xgboost_5')[:] = classification_per_attack_original(0,'Xgboost',merged5)\n",
    "print(results_original_per_attack_original)\n",
    "results_original_per_attack_original.xs('RF_5')[:] = classification_per_attack_original(0,'RF',merged5)\n",
    "print(results_original_per_attack_original)\n",
    "results_original_per_attack_original.xs('Stacking_5')[:] = classification_per_attack_original(0,'Stacking',merged5)\n",
    "print(results_original_per_attack_original)\n",
    "results_original_per_attack_original.to_excel('results_original_per_attack_original_1.xlsx')"
   ]
  },
  {
   "cell_type": "code",
   "execution_count": null,
   "id": "e467a30a",
   "metadata": {},
   "outputs": [],
   "source": [
    "# Read the results if needed\n",
    "results_original_per_attack_original = pd.read_excel('results_original_per_attack_original_1.xlsx')\n",
    "results_original_per_attack_original.rename(columns={'Unnamed: 0': 'method'}, inplace=True)\n",
    "results_original_per_attack_original.set_index('method', inplace=True)"
   ]
  }
 ],
 "metadata": {
  "kernelspec": {
   "display_name": "Python 3 (ipykernel)",
   "language": "python",
   "name": "python3"
  },
  "language_info": {
   "codemirror_mode": {
    "name": "ipython",
    "version": 3
   },
   "file_extension": ".py",
   "mimetype": "text/x-python",
   "name": "python",
   "nbconvert_exporter": "python",
   "pygments_lexer": "ipython3",
   "version": "3.9.7"
  }
 },
 "nbformat": 4,
 "nbformat_minor": 5
}
